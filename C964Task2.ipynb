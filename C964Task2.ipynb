{
 "cells": [
  {
   "cell_type": "markdown",
   "id": "3cd863a0-f3bd-4b46-a296-55daea88d398",
   "metadata": {},
   "source": [
    "# Video Game Sales Exploration and Prediction"
   ]
  },
  {
   "cell_type": "code",
   "execution_count": null,
   "id": "fe55883a-6887-43dd-9498-5333a51799e2",
   "metadata": {},
   "outputs": [],
   "source": [
    "#Import libraries\n",
    "%pip install -q seaborn\n",
    "%pip install -q ipywidgets\n",
    "import ipywidgets as widgets\n",
    "import seaborn as sns\n",
    "from matplotlib import pyplot as plt\n",
    "import pandas as pd\n",
    "import numpy as np\n",
    "from sklearn.model_selection import train_test_split \n",
    "from sklearn.linear_model import LinearRegression \n",
    "from sklearn import metrics"
   ]
  },
  {
   "cell_type": "markdown",
   "id": "87ae8f83-b922-4855-9636-838bf28aee80",
   "metadata": {},
   "source": [
    "### Top 5 selling video games between 2000-2016"
   ]
  },
  {
   "cell_type": "code",
   "execution_count": 2,
   "id": "b3ba2a59-f3d8-4f4b-87f3-44d0eaba9890",
   "metadata": {},
   "outputs": [
    {
     "data": {
      "text/html": [
       "<div>\n",
       "<style scoped>\n",
       "    .dataframe tbody tr th:only-of-type {\n",
       "        vertical-align: middle;\n",
       "    }\n",
       "\n",
       "    .dataframe tbody tr th {\n",
       "        vertical-align: top;\n",
       "    }\n",
       "\n",
       "    .dataframe thead th {\n",
       "        text-align: right;\n",
       "    }\n",
       "</style>\n",
       "<table border=\"1\" class=\"dataframe\">\n",
       "  <thead>\n",
       "    <tr style=\"text-align: right;\">\n",
       "      <th></th>\n",
       "      <th>Rank</th>\n",
       "      <th>Name</th>\n",
       "      <th>Platform</th>\n",
       "      <th>Year</th>\n",
       "      <th>Genre</th>\n",
       "      <th>Publisher</th>\n",
       "      <th>NA_Sales</th>\n",
       "      <th>EU_Sales</th>\n",
       "      <th>JP_Sales</th>\n",
       "      <th>Other_Sales</th>\n",
       "      <th>Global_Sales</th>\n",
       "    </tr>\n",
       "  </thead>\n",
       "  <tbody>\n",
       "    <tr>\n",
       "      <th>0</th>\n",
       "      <td>1</td>\n",
       "      <td>Wii Sports</td>\n",
       "      <td>Wii</td>\n",
       "      <td>2006.0</td>\n",
       "      <td>Sports</td>\n",
       "      <td>Nintendo</td>\n",
       "      <td>41.49</td>\n",
       "      <td>29.02</td>\n",
       "      <td>3.77</td>\n",
       "      <td>8.46</td>\n",
       "      <td>82.74</td>\n",
       "    </tr>\n",
       "    <tr>\n",
       "      <th>2</th>\n",
       "      <td>3</td>\n",
       "      <td>Mario Kart Wii</td>\n",
       "      <td>Wii</td>\n",
       "      <td>2008.0</td>\n",
       "      <td>Racing</td>\n",
       "      <td>Nintendo</td>\n",
       "      <td>15.85</td>\n",
       "      <td>12.88</td>\n",
       "      <td>3.79</td>\n",
       "      <td>3.31</td>\n",
       "      <td>35.82</td>\n",
       "    </tr>\n",
       "    <tr>\n",
       "      <th>3</th>\n",
       "      <td>4</td>\n",
       "      <td>Wii Sports Resort</td>\n",
       "      <td>Wii</td>\n",
       "      <td>2009.0</td>\n",
       "      <td>Sports</td>\n",
       "      <td>Nintendo</td>\n",
       "      <td>15.75</td>\n",
       "      <td>11.01</td>\n",
       "      <td>3.28</td>\n",
       "      <td>2.96</td>\n",
       "      <td>33.00</td>\n",
       "    </tr>\n",
       "    <tr>\n",
       "      <th>6</th>\n",
       "      <td>7</td>\n",
       "      <td>New Super Mario Bros.</td>\n",
       "      <td>DS</td>\n",
       "      <td>2006.0</td>\n",
       "      <td>Platform</td>\n",
       "      <td>Nintendo</td>\n",
       "      <td>11.38</td>\n",
       "      <td>9.23</td>\n",
       "      <td>6.50</td>\n",
       "      <td>2.90</td>\n",
       "      <td>30.01</td>\n",
       "    </tr>\n",
       "    <tr>\n",
       "      <th>7</th>\n",
       "      <td>8</td>\n",
       "      <td>Wii Play</td>\n",
       "      <td>Wii</td>\n",
       "      <td>2006.0</td>\n",
       "      <td>Misc</td>\n",
       "      <td>Nintendo</td>\n",
       "      <td>14.03</td>\n",
       "      <td>9.20</td>\n",
       "      <td>2.93</td>\n",
       "      <td>2.85</td>\n",
       "      <td>29.02</td>\n",
       "    </tr>\n",
       "  </tbody>\n",
       "</table>\n",
       "</div>"
      ],
      "text/plain": [
       "   Rank                   Name Platform    Year     Genre Publisher  NA_Sales  \\\n",
       "0     1             Wii Sports      Wii  2006.0    Sports  Nintendo     41.49   \n",
       "2     3         Mario Kart Wii      Wii  2008.0    Racing  Nintendo     15.85   \n",
       "3     4      Wii Sports Resort      Wii  2009.0    Sports  Nintendo     15.75   \n",
       "6     7  New Super Mario Bros.       DS  2006.0  Platform  Nintendo     11.38   \n",
       "7     8               Wii Play      Wii  2006.0      Misc  Nintendo     14.03   \n",
       "\n",
       "   EU_Sales  JP_Sales  Other_Sales  Global_Sales  \n",
       "0     29.02      3.77         8.46         82.74  \n",
       "2     12.88      3.79         3.31         35.82  \n",
       "3     11.01      3.28         2.96         33.00  \n",
       "6      9.23      6.50         2.90         30.01  \n",
       "7      9.20      2.93         2.85         29.02  "
      ]
     },
     "execution_count": 2,
     "metadata": {},
     "output_type": "execute_result"
    }
   ],
   "source": [
    "#Drop NaN rows, games before 2000, and games after 2016.\n",
    "df = pd.read_csv(\"C:/Users/Nick/vgsales.csv\")\n",
    "df = df.dropna(axis=0)\n",
    "df.drop(df[df['Year'] < 2000.0].index, inplace = True)\n",
    "df.drop(df[df['Year'] > 2016.0].index, inplace = True)\n",
    "#Displays top 5 selling games between 2000-2016\n",
    "df.head()"
   ]
  },
  {
   "cell_type": "markdown",
   "id": "936d9141-6ee3-423d-b93e-cc74fddac0bc",
   "metadata": {},
   "source": [
    "### Total sales of each genre between 2000-2016"
   ]
  },
  {
   "cell_type": "code",
   "execution_count": 3,
   "id": "18a8e57d-97d7-480c-96a8-8452c2c0dafd",
   "metadata": {},
   "outputs": [
    {
     "data": {
      "image/png": "[encoded data removed]",
      "text/plain": [
       "<Figure size 432x288 with 1 Axes>"
      ]
     },
     "metadata": {
      "needs_background": "light"
     },
     "output_type": "display_data"
    }
   ],
   "source": [
    "df2 = df.copy()\n",
    "#Group the games by genre and combine their global_sales\n",
    "df2 = df2.groupby(['Genre'],as_index=False).agg({'Global_Sales': 'sum'})\n",
    "df2 = df2.sort_values(by = 'Global_Sales', ascending = True)\n",
    "#Display the genres in ascending order.\n",
    "#Shows each genre and how much they made in total compared to others. \n",
    "#Can be used to gauge potential game success, interest, and size of audience.\n",
    "plt.bar(\"Genre\", \"Global_Sales\", data = df2, color = \"blue\")\n",
    "plt.xlabel(\"Genre\")\n",
    "plt.xticks(rotation = 90)\n",
    "plt.ylabel(\"Total Sales (millions)\")\n",
    "plt.title(\"Total Sales by Genre from 2000-2016\")\n",
    "plt.show()"
   ]
  },
  {
   "cell_type": "markdown",
   "id": "d56f3ee8-9b5c-476e-8793-aa5759feb25b",
   "metadata": {},
   "source": [
    "### Comparing sales of all video games between the three big regions (millions)"
   ]
  },
  {
   "cell_type": "code",
   "execution_count": 4,
   "id": "3c9b173a-c252-40de-9169-ee8751dc356f",
   "metadata": {},
   "outputs": [
    {
     "data": {
      "image/png": "[encoded data removed]",
      "text/plain": [
       "<Figure size 432x288 with 1 Axes>"
      ]
     },
     "metadata": {
      "needs_background": "light"
     },
     "output_type": "display_data"
    },
    {
     "data": {
      "image/png": "[encoded data removed]",
      "text/plain": [
       "<Figure size 432x288 with 1 Axes>"
      ]
     },
     "metadata": {
      "needs_background": "light"
     },
     "output_type": "display_data"
    },
    {
     "data": {
      "image/png": "[encoded data removed]",
      "text/plain": [
       "<Figure size 432x288 with 1 Axes>"
      ]
     },
     "metadata": {
      "needs_background": "light"
     },
     "output_type": "display_data"
    }
   ],
   "source": [
    "#These scatter plots show the correlation of sales between two countries.\n",
    "#Things to take notice of: NA and EU game sales climb proportionally, \n",
    "#while JP game sales usually only do well in JP (relative to population).\n",
    "#Therefore, games shouldn't targeted at JP if the main goal is profit.\n",
    "scat = df.plot.scatter(x='JP_Sales', y='NA_Sales', c='DarkBlue')\n",
    "scat2 = df.plot.scatter(x='JP_Sales', y='EU_Sales', c='DarkGreen')\n",
    "scat3 = df.plot.scatter(x='EU_Sales', y='NA_Sales', c='DarkRed')\n",
    "plt.show()"
   ]
  },
  {
   "cell_type": "markdown",
   "id": "f6e16c3c-62d9-43b1-affc-918c77b4eb0b",
   "metadata": {},
   "source": [
    "### Machine Learning Model Training and Accuracy"
   ]
  },
  {
   "cell_type": "code",
   "execution_count": 5,
   "id": "b25c7989-3eb4-4a26-8a59-a923051896db",
   "metadata": {},
   "outputs": [
    {
     "name": "stdout",
     "output_type": "stream",
     "text": [
      "R-squared Error in training: 0.0072\n",
      "R-squared Error in test: 0.006\n",
      "This means, in testing, only 0.6% of target variance can be explained by the model.\n"
     ]
    },
    {
     "data": {
      "text/plain": [
       "<AxesSubplot:>"
      ]
     },
     "execution_count": 5,
     "metadata": {},
     "output_type": "execute_result"
    },
    {
     "data": {
      "image/png": "[encoded data removed]",
      "text/plain": [
       "<Figure size 432x288 with 1 Axes>"
      ]
     },
     "metadata": {
      "needs_background": "light"
     },
     "output_type": "display_data"
    }
   ],
   "source": [
    "df3 = df.copy()\n",
    "\n",
    "df3.replace({'Platform':\n",
    "            {'Wii':0, 'DS':1, 'X360':2, 'PS3':3, 'PS2':4, 'GBA':5, '3DS':6, 'PS4':7, 'XB':8, 'PC':9, 'PSP':10, \n",
    "             'XOne':11, 'GC':12, 'WiiU':13, 'GB':14, 'PS':15, 'N64':16, '2600':17, 'PSV':18, 'DC':19, 'WS':20}}, inplace=True)\n",
    "df3.replace({'Genre':\n",
    "            {'Sports':0, 'Racing':1, 'Platform':2, 'Misc':3, 'Simulation':4, 'Action':5, 'Role-Playing':6, \n",
    "             'Puzzle':7, 'Shooter':8, 'Fighting':9, 'Adventure':10, 'Strategy':11}}, inplace=True)\n",
    "\n",
    "#Train the model\n",
    "X = df3.drop(['Rank', 'Name', 'Year', 'Publisher', 'NA_Sales', 'EU_Sales', 'JP_Sales', 'Other_Sales', 'Global_Sales'], axis=1)\n",
    "Y = df3['Global_Sales']\n",
    "X_train, X_test, Y_train, Y_test = train_test_split(X.values, Y.values, test_size = 0.2, random_state=42)\n",
    "lin_reg_model = LinearRegression()\n",
    "lin_reg_model.fit(X_train, Y_train)\n",
    "training_data_prediction = lin_reg_model.predict(X_train)\n",
    "\n",
    "#Output error scores and accuracy\n",
    "train_error_score = metrics.r2_score(Y_train, training_data_prediction) \n",
    "print(\"R-squared Error in training:\", round(train_error_score, 4))\n",
    "Y_pred = lin_reg_model.predict(X_test)\n",
    "test_error_score = metrics.r2_score(Y_test, Y_pred) \n",
    "print(\"R-squared Error in test:\", round(test_error_score, 4))\n",
    "print(\"This means, in testing, only 0.6% of target variance can be explained by the model.\")\n",
    "#The graph below visualizes and proves the very low correlation that platform and genre have on total sales.\n",
    "#Things that can't be put in a graph, such as marketing and developer history, \n",
    "#play a larger role in video game sales than their genres and platforms.\n",
    "sns.regplot(x=Y_test, y=Y_pred)"
   ]
  },
  {
   "cell_type": "markdown",
   "id": "be5b89a6-ecab-4ead-8720-e6a44716aad5",
   "metadata": {},
   "source": [
    "### Estimate how much money a video game would make if it were to be developed. Select the genre of the game and the platform it would be released on, then click 'Estimate Sales'"
   ]
  },
  {
   "cell_type": "code",
   "execution_count": 6,
   "id": "aee58e51-3030-42b3-baa0-5c6db1235ab1",
   "metadata": {},
   "outputs": [
    {
     "data": {
      "application/vnd.jupyter.widget-view+json": {
       "model_id": "b96955a5b56745688dec7a9cdd1ab2e9",
       "version_major": 2,
       "version_minor": 0
      },
      "text/plain": [
       "VBox(children=(Dropdown(description='Platform:', options=('Wii', 'DS', 'X360', 'PS3', 'PS2', 'GBA', '3DS', 'PS…"
      ]
     },
     "metadata": {},
     "output_type": "display_data"
    }
   ],
   "source": [
    "#Create menus and button\n",
    "menu1 = widgets.Dropdown(\n",
    "    options=df.Platform.unique().tolist(), \n",
    "    description='Platform:')        \n",
    "menu2 = widgets.Dropdown(\n",
    "    options=df.Genre.unique().tolist(),\n",
    "    description='Genre:')\n",
    "button = widgets.Button(description=\"Estimate Sales\")\n",
    "out = widgets.Output()\n",
    "\n",
    "def on_button_clicked(_):\n",
    "      with out:\n",
    "        X_new = np.array([menu1.options.index(menu1.value), menu2.options.index(menu2.value)]).reshape(1, -1)\n",
    "        result = round(lin_reg_model.predict(X_new)[0], 3)\n",
    "        print(\"A game for the \" + str(menu1.value) + \" console in the \" + str(menu2.value) + \n",
    "              \" genre will make $\" + str(result) + \" million dollars.\")\n",
    "        #Results should be taken with a grain of salt because of the low accuracy. \n",
    "        #Results should be interpreted relatively rather than literally.\n",
    "        #For example, view the data as \"oh, this combination will sell more copies in general than the other combination.\"\n",
    "\n",
    "button.on_click(on_button_clicked)\n",
    "widgets.VBox([menu1,menu2,button,out])"
   ]
  }
 ],
 "metadata": {
  "kernelspec": {
   "display_name": "Python 3 (ipykernel)",
   "language": "python",
   "name": "python3"
  },
  "language_info": {
   "codemirror_mode": {
    "name": "ipython",
    "version": 3
   },
   "file_extension": ".py",
   "mimetype": "text/x-python",
   "name": "python",
   "nbconvert_exporter": "python",
   "pygments_lexer": "ipython3",
   "version": "3.9.7"
  },
  "widgets": {
   "application/vnd.jupyter.widget-state+json": {
    "state": {
     "1ced3b1357cd42d987a5d65b0dcfc45d": {
      "model_module": "@jupyter-widgets/controls",
      "model_module_version": "1.5.0",
      "model_name": "DescriptionStyleModel",
      "state": {
       "description_width": ""
      }
     },
     "27f7089ae50f4952bc010a15d0a9f516": {
      "model_module": "@jupyter-widgets/controls",
      "model_module_version": "1.5.0",
      "model_name": "DropdownModel",
      "state": {
       "_options_labels": [
        "Sports",
        "Racing",
        "Platform",
        "Misc",
        "Simulation",
        "Action",
        "Role-Playing",
        "Puzzle",
        "Shooter",
        "Fighting",
        "Adventure",
        "Strategy"
       ],
       "description": "Genre:",
       "index": 0,
       "layout": "IPY_MODEL_a62f55528d2e4ebb902c2a33bc951dcb",
       "style": "IPY_MODEL_d4c44eff9e09431798b70f100b8dcdba"
      }
     },
     "2b838d831d0e4cc1b03a7b00da447021": {
      "model_module": "@jupyter-widgets/base",
      "model_module_version": "1.2.0",
      "model_name": "LayoutModel",
      "state": {}
     },
     "3ecc418e16e74e5db48ba8780f816506": {
      "model_module": "@jupyter-widgets/base",
      "model_module_version": "1.2.0",
      "model_name": "LayoutModel",
      "state": {}
     },
     "606ce4cb269d461282dd3839d8c7b374": {
      "model_module": "@jupyter-widgets/controls",
      "model_module_version": "1.5.0",
      "model_name": "ButtonStyleModel",
      "state": {}
     },
     "735489acceb44065b9cba8f2b0794a57": {
      "model_module": "@jupyter-widgets/controls",
      "model_module_version": "1.5.0",
      "model_name": "ButtonModel",
      "state": {
       "description": "Estimate Sales",
       "layout": "IPY_MODEL_d2bf509f69cc4f988160890952a2a7c9",
       "style": "IPY_MODEL_606ce4cb269d461282dd3839d8c7b374"
      }
     },
     "a1b4eb7b41084e52b93c0b34f9659bdb": {
      "model_module": "@jupyter-widgets/output",
      "model_module_version": "1.0.0",
      "model_name": "OutputModel",
      "state": {
       "layout": "IPY_MODEL_3ecc418e16e74e5db48ba8780f816506"
      }
     },
     "a62f55528d2e4ebb902c2a33bc951dcb": {
      "model_module": "@jupyter-widgets/base",
      "model_module_version": "1.2.0",
      "model_name": "LayoutModel",
      "state": {}
     },
     "b96955a5b56745688dec7a9cdd1ab2e9": {
      "model_module": "@jupyter-widgets/controls",
      "model_module_version": "1.5.0",
      "model_name": "VBoxModel",
      "state": {
       "children": [
        "IPY_MODEL_c2e05c8d4ab1419d9d41e0283d232486",
        "IPY_MODEL_27f7089ae50f4952bc010a15d0a9f516",
        "IPY_MODEL_735489acceb44065b9cba8f2b0794a57",
        "IPY_MODEL_a1b4eb7b41084e52b93c0b34f9659bdb"
       ],
       "layout": "IPY_MODEL_f2b12e12b3c54061b6bffba971ea4a9b"
      }
     },
     "c2e05c8d4ab1419d9d41e0283d232486": {
      "model_module": "@jupyter-widgets/controls",
      "model_module_version": "1.5.0",
      "model_name": "DropdownModel",
      "state": {
       "_options_labels": [
        "Wii",
        "DS",
        "X360",
        "PS3",
        "PS2",
        "GBA",
        "3DS",
        "PS4",
        "XB",
        "PC",
        "PSP",
        "XOne",
        "GC",
        "WiiU",
        "GB",
        "PS",
        "N64",
        "PSV",
        "DC",
        "WS"
       ],
       "description": "Platform:",
       "index": 0,
       "layout": "IPY_MODEL_2b838d831d0e4cc1b03a7b00da447021",
       "style": "IPY_MODEL_1ced3b1357cd42d987a5d65b0dcfc45d"
      }
     },
     "d2bf509f69cc4f988160890952a2a7c9": {
      "model_module": "@jupyter-widgets/base",
      "model_module_version": "1.2.0",
      "model_name": "LayoutModel",
      "state": {}
     },
     "d4c44eff9e09431798b70f100b8dcdba": {
      "model_module": "@jupyter-widgets/controls",
      "model_module_version": "1.5.0",
      "model_name": "DescriptionStyleModel",
      "state": {
       "description_width": ""
      }
     },
     "f2b12e12b3c54061b6bffba971ea4a9b": {
      "model_module": "@jupyter-widgets/base",
      "model_module_version": "1.2.0",
      "model_name": "LayoutModel",
      "state": {}
     }
    },
    "version_major": 2,
    "version_minor": 0
   }
  }
 },
 "nbformat": 4,
 "nbformat_minor": 5
}
